{
 "cells": [
  {
   "cell_type": "code",
   "execution_count": 2,
   "metadata": {},
   "outputs": [],
   "source": [
    "import numpy as np\n",
    "import matplotlib.pyplot as plt\n",
    "import pandas as pd\n",
    "import glob\n",
    "from scipy.stats import entropy\n",
    "\n",
    "import glob\n",
    "import seaborn as sns\n",
    "\n",
    "from scipy.cluster.hierarchy import dendrogram\n",
    "from scipy.cluster.hierarchy import linkage\n",
    "from scipy import stats\n",
    "from plot_tools import *\n",
    "from metrics import *\n",
    "\n",
    "%matplotlib inline"
   ]
  },
  {
   "cell_type": "markdown",
   "metadata": {},
   "source": [
    "## Ice references reading"
   ]
  },
  {
   "cell_type": "code",
   "execution_count": 10,
   "metadata": {},
   "outputs": [],
   "source": [
    "names_ice = ['Ic','Ih','II','VIII','IX','XIII','XIV','XV','XVII','sII','sH']\n",
    "\n",
    "spectra_ice = []\n",
    "\n",
    "spectra_ice.append(np.mean(np.load('../ice/results/Ic.npz')['arr_0'],axis=0))\n",
    "spectra_ice.append(np.mean(np.load('../ice/results/Ih.npz')['arr_0'],axis=0))\n",
    "spectra_ice.append(np.mean(np.load('../ice/results/II.npz')['arr_0'],axis=0))\n",
    "spectra_ice.append(np.mean(np.load('../ice/results/VIII.npz')['arr_0'],axis=0))\n",
    "spectra_ice.append(np.mean(np.load('../ice/results/IX.npz')['arr_0'],axis=0))\n",
    "spectra_ice.append(np.mean(np.load('../ice/results/XIII.npz')['arr_0'],axis=0))\n",
    "spectra_ice.append(np.mean(np.load('../ice/results/XIV.npz')['arr_0'],axis=0))\n",
    "spectra_ice.append(np.mean(np.load('../ice/results/XV.npz')['arr_0'],axis=0))\n",
    "spectra_ice.append(np.mean(np.load('../ice/results/XVII.npz')['arr_0'],axis=0))\n",
    "\n",
    "spectra_ice.append(np.mean(np.load('../ice/results/sII.npz')['arr_0'],axis=0))\n",
    "spectra_ice.append(np.mean(np.load('../ice/results/sH.npz')['arr_0'],axis=0))"
   ]
  },
  {
   "cell_type": "markdown",
   "metadata": {},
   "source": [
    "## Water references at 298K"
   ]
  },
  {
   "cell_type": "code",
   "execution_count": 19,
   "metadata": {},
   "outputs": [],
   "source": [
    "name_models = ['SPC','SPC/E','SPC/Eb','TIP3P','TIP3P-FB',\n",
    "         'OPC3','TIP4P','TIP4P-EW','TIP4P/2005','TIP4P-ICE',\n",
    "         'TIP4P/ε','TIP4P-FB','OPC','TIP5P','TIP5P-EW',\n",
    "         'TIP5P/2018']\n",
    "\n",
    "spectra_model = []\n",
    "\n",
    "# 3-sites models\n",
    "spectra_model.append(np.mean(np.load('references_water/spc_soap.npz')['arr_0'],axis=0))\n",
    "spectra_model.append(np.mean(np.load('references_water/spce_soap.npz')['arr_0'],axis=0))\n",
    "spectra_model.append(np.mean(np.load('results/spceb_soap.npz')['arr_0'],axis=0))\n",
    "spectra_model.append(np.mean(np.load('references_water/tip3p_soap.npz')['arr_0'],axis=0))\n",
    "spectra_model.append(np.mean(np.load('references_water/tip3pfb_soap.npz')['arr_0'],axis=0))\n",
    "spectra_model.append(np.mean(np.load('references_water/opc3_soap.npz')['arr_0'],axis=0))\n",
    "\n",
    "# 4-sites models\n",
    "spectra_model.append(np.mean(np.load('references_water/tip4p_soap.npz')['arr_0'],axis=0))\n",
    "spectra_model.append(np.mean(np.load('references_water/tip4pew_soap.npz')['arr_0'],axis=0))\n",
    "spectra_model.append(np.mean(np.load('references_water/tip4p2005_soap.npz')['arr_0'],axis=0))\n",
    "spectra_model.append(np.mean(np.load('references_water/tip4pice_soap.npz')['arr_0'],axis=0))\n",
    "spectra_model.append(np.mean(np.load('references_water/tip4peps_soap.npz')['arr_0'],axis=0))\n",
    "spectra_model.append(np.mean(np.load('references_water/tip4pfb_soap.npz')['arr_0'],axis=0))\n",
    "spectra_model.append(np.mean(np.load('references_water/opc_soap.npz')['arr_0'],axis=0))\n",
    "\n",
    "# 5-sites models\n",
    "spectra_model.append(np.mean(np.load('references_water/tip5p_soap.npz')['arr_0'],axis=0))\n",
    "spectra_model.append(np.mean(np.load('references_water/tip5pew_soap.npz')['arr_0'],axis=0))\n",
    "spectra_model.append(np.mean(np.load('references_water/tip5p2018_soap.npz')['arr_0'],axis=0))"
   ]
  },
  {
   "cell_type": "markdown",
   "metadata": {},
   "source": [
    "## Trajectories"
   ]
  },
  {
   "cell_type": "code",
   "execution_count": 14,
   "metadata": {},
   "outputs": [
    {
     "name": "stdout",
     "output_type": "stream",
     "text": [
      "(1025024, 1224)\n"
     ]
    }
   ],
   "source": [
    "# 3-sites models\n",
    "prova = np.load('results_single_molecule/spc_soap.npz')['arr_0']\n",
    "\n",
    "name = 'SPC'\n",
    "\n",
    "\n",
    "#distmat = np.zeros((len(spectra),len(spectra)))\n",
    "\n",
    "#for i in range(len(spectra)):\n",
    "#    for j in range(i+1,len(spectra)):\n",
    "#        distmat[i,j] = DistanceSoap(spectra[i],spectra[j])\n",
    "#        distmat[j,i] = DistanceSoap(spectra[j],spectra[i])\n",
    "print(prova.shape)"
   ]
  },
  {
   "cell_type": "code",
   "execution_count": 21,
   "metadata": {},
   "outputs": [
    {
     "name": "stdout",
     "output_type": "stream",
     "text": [
      "frame  0.0  done.\n",
      "frame  10.0  done.\n",
      "frame  20.0  done.\n",
      "frame  30.0  done.\n",
      "frame  40.0  done.\n",
      "frame  50.0  done.\n",
      "frame  60.0  done.\n",
      "frame  70.0  done.\n",
      "frame  80.0  done.\n",
      "frame  90.0  done.\n",
      "frame  100.0  done.\n",
      "frame  110.0  done.\n",
      "frame  120.0  done.\n",
      "frame  130.0  done.\n",
      "frame  140.0  done.\n",
      "frame  150.0  done.\n",
      "frame  160.0  done.\n",
      "frame  170.0  done.\n",
      "frame  180.0  done.\n",
      "frame  190.0  done.\n",
      "frame  200.0  done.\n",
      "frame  210.0  done.\n",
      "frame  220.0  done.\n",
      "frame  230.0  done.\n",
      "frame  240.0  done.\n",
      "frame  250.0  done.\n",
      "frame  260.0  done.\n",
      "frame  270.0  done.\n",
      "frame  280.0  done.\n",
      "frame  290.0  done.\n",
      "frame  300.0  done.\n",
      "frame  310.0  done.\n",
      "frame  320.0  done.\n",
      "frame  330.0  done.\n",
      "frame  340.0  done.\n",
      "frame  350.0  done.\n",
      "frame  360.0  done.\n",
      "frame  370.0  done.\n",
      "frame  380.0  done.\n",
      "frame  390.0  done.\n",
      "frame  400.0  done.\n",
      "frame  410.0  done.\n",
      "frame  420.0  done.\n",
      "frame  430.0  done.\n",
      "frame  440.0  done.\n",
      "frame  450.0  done.\n",
      "frame  460.0  done.\n",
      "frame  470.0  done.\n",
      "frame  480.0  done.\n",
      "frame  490.0  done.\n",
      "frame  500.0  done.\n",
      "frame  510.0  done.\n",
      "frame  520.0  done.\n",
      "frame  530.0  done.\n",
      "frame  540.0  done.\n",
      "frame  550.0  done.\n",
      "frame  560.0  done.\n",
      "frame  570.0  done.\n",
      "frame  580.0  done.\n",
      "frame  590.0  done.\n",
      "frame  600.0  done.\n",
      "frame  610.0  done.\n",
      "frame  620.0  done.\n",
      "frame  630.0  done.\n",
      "frame  640.0  done.\n",
      "frame  650.0  done.\n",
      "frame  660.0  done.\n",
      "frame  670.0  done.\n",
      "frame  680.0  done.\n",
      "frame  690.0  done.\n",
      "frame  700.0  done.\n",
      "frame  710.0  done.\n",
      "frame  720.0  done.\n",
      "frame  730.0  done.\n",
      "frame  740.0  done.\n",
      "frame  750.0  done.\n",
      "frame  760.0  done.\n",
      "frame  770.0  done.\n",
      "frame  780.0  done.\n",
      "frame  790.0  done.\n",
      "frame  800.0  done.\n",
      "frame  810.0  done.\n",
      "frame  820.0  done.\n",
      "frame  830.0  done.\n",
      "frame  840.0  done.\n",
      "frame  850.0  done.\n",
      "frame  860.0  done.\n",
      "frame  870.0  done.\n",
      "frame  880.0  done.\n",
      "frame  890.0  done.\n",
      "frame  900.0  done.\n",
      "frame  910.0  done.\n",
      "frame  920.0  done.\n",
      "frame  930.0  done.\n",
      "frame  940.0  done.\n",
      "frame  950.0  done.\n",
      "frame  960.0  done.\n",
      "frame  970.0  done.\n",
      "frame  980.0  done.\n",
      "frame  990.0  done.\n",
      "frame  1000.0  done.\n"
     ]
    }
   ],
   "source": [
    "minimum_list = []\n",
    "for i in range(prova.shape[0]):\n",
    "    dist=10.\n",
    "    ref=-1.\n",
    "    for j in range(len(spectra_ice)):\n",
    "        if DistanceSoap(prova[0,:],spectra_ice[j]) < dist:\n",
    "            dist = DistanceSoap(prova[i,:],spectra_ice[j])\n",
    "            ref = j\n",
    "        else:\n",
    "            pass\n",
    "    if DistanceSoap(prova[i,:],spectra_model[0]) < dist:\n",
    "            dist = DistanceSoap(prova[i,:],spectra_model[0])\n",
    "            ref=999\n",
    "    if i%10240==0:\n",
    "        print(\"frame \",i/1024,\" done.\")\n",
    "    minimum_list.append([ref,dist])"
   ]
  },
  {
   "cell_type": "code",
   "execution_count": 24,
   "metadata": {},
   "outputs": [],
   "source": [
    "with open('test.dat','w') as f:\n",
    "    for element in minimum_list:\n",
    "        try:\n",
    "            f.write(\"%s\\t%lf\\n\" % (names_ice[element[0]],element[1]))\n",
    "        except IndexError:\n",
    "            f.write(\"%s\\t%lf\\n\" % ('wat',element[1]))"
   ]
  },
  {
   "cell_type": "code",
   "execution_count": null,
   "metadata": {},
   "outputs": [],
   "source": []
  }
 ],
 "metadata": {
  "kernelspec": {
   "display_name": "Python 3",
   "language": "python",
   "name": "python3"
  },
  "language_info": {
   "codemirror_mode": {
    "name": "ipython",
    "version": 3
   },
   "file_extension": ".py",
   "mimetype": "text/x-python",
   "name": "python",
   "nbconvert_exporter": "python",
   "pygments_lexer": "ipython3",
   "version": "3.8.9"
  }
 },
 "nbformat": 4,
 "nbformat_minor": 4
}
